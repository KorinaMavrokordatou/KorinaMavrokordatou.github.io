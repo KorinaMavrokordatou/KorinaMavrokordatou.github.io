{
  "cells": [
    {
      "cell_type": "code",
      "execution_count": null,
      "metadata": {
        "id": "pKSdbK8ZGW7K"
      },
      "outputs": [],
      "source": [
        "url_base = \"https://api.stlouisfed.org/fred/series/observations?series_id={}&api_key=4418e1c776d641898220ba78ec770625&file_type=json\""
      ]
    },
    {
      "cell_type": "code",
      "execution_count": null,
      "metadata": {
        "id": "mLk2svAIGtLb"
      },
      "outputs": [],
      "source": [
        "fredSeries = ['FEDFUNDS', 'UNRATE', 'GNPCA', 'INDPRO']"
      ]
    },
    {
      "cell_type": "code",
      "execution_count": null,
      "metadata": {
        "colab": {
          "base_uri": "https://localhost:8080/"
        },
        "id": "MO_LZD4YLXS_",
        "outputId": "3820aeef-ba89-4f2c-a97c-9cfca00049c4"
      },
      "outputs": [
        {
          "name": "stdout",
          "output_type": "stream",
          "text": [
            "https://api.stlouisfed.org/fred/series/observations?series_id=FEDFUNDS&api_key=4418e1c776d641898220ba78ec770625&file_type=json\n",
            "https://api.stlouisfed.org/fred/series/observations?series_id=UNRATE&api_key=4418e1c776d641898220ba78ec770625&file_type=json\n",
            "https://api.stlouisfed.org/fred/series/observations?series_id=GNPCA&api_key=4418e1c776d641898220ba78ec770625&file_type=json\n",
            "https://api.stlouisfed.org/fred/series/observations?series_id=INDPRO&api_key=4418e1c776d641898220ba78ec770625&file_type=json\n"
          ]
        }
      ],
      "source": [
        "for i in fredSeries:\n",
        "  URL = url_base.format(i)\n",
        "  print(URL)"
      ]
    },
    {
      "cell_type": "code",
      "execution_count": null,
      "metadata": {
        "id": "t6-KVnvtLsLA"
      },
      "outputs": [],
      "source": [
        "import requests "
      ]
    },
    {
      "cell_type": "code",
      "execution_count": null,
      "metadata": {
        "id": "WvHozKUZLwqR"
      },
      "outputs": [],
      "source": [
        "import json "
      ]
    },
    {
      "cell_type": "code",
      "execution_count": null,
      "metadata": {
        "id": "DDJgOJ8RLy22"
      },
      "outputs": [],
      "source": [
        "from google.colab import files "
      ]
    },
    {
      "cell_type": "markdown",
      "metadata": {
        "id": "GzykqQtEMBXk"
      },
      "source": [
        "SINGLE EXAMPLE: GETTING THE DATA "
      ]
    },
    {
      "cell_type": "code",
      "execution_count": null,
      "metadata": {
        "id": "DvE-XTB4MEAI"
      },
      "outputs": [],
      "source": [
        "url = \"https://api.stlouisfed.org/fred/series/observations?series_id=FEDFUNDS&api_key=4418e1c776d641898220ba78ec770625&file_type=json\""
      ]
    },
    {
      "cell_type": "code",
      "execution_count": null,
      "metadata": {
        "id": "Mh5Rgc06MUOC"
      },
      "outputs": [],
      "source": [
        "data = requests.get(url).json()"
      ]
    },
    {
      "cell_type": "code",
      "execution_count": null,
      "metadata": {
        "colab": {
          "base_uri": "https://localhost:8080/"
        },
        "id": "_YSZaDuiMhSQ",
        "outputId": "a9de7933-6cfe-480c-80e1-384a6d207b2b"
      },
      "outputs": [],
      "source": [
        "print(data)"
      ]
    },
    {
      "cell_type": "code",
      "execution_count": null,
      "metadata": {
        "id": "-l168TiWMs9q"
      },
      "outputs": [],
      "source": [
        "fileName = \"data_FRED-FEDFUNDS.json\""
      ]
    },
    {
      "cell_type": "code",
      "execution_count": null,
      "metadata": {
        "colab": {
          "base_uri": "https://localhost:8080/"
        },
        "id": "nndHdghfNAhE",
        "outputId": "e4697ce5-9ced-4293-f654-4b3bb3f97c64"
      },
      "outputs": [
        {
          "name": "stdout",
          "output_type": "stream",
          "text": [
            "data_FRED-FEDFUNDS.json\n"
          ]
        }
      ],
      "source": [
        "print(fileName)"
      ]
    },
    {
      "cell_type": "code",
      "execution_count": null,
      "metadata": {
        "id": "xGu0hyDlNHAC"
      },
      "outputs": [],
      "source": [
        "with open(fileName, 'w', encoding='utf-8') as f:\n",
        "  json.dump(data, f, ensure_ascii=False, indent=4)"
      ]
    },
    {
      "cell_type": "code",
      "execution_count": null,
      "metadata": {
        "colab": {
          "base_uri": "https://localhost:8080/",
          "height": 17
        },
        "id": "EwItvk38NucY",
        "outputId": "dc0192d1-9da9-4abd-dc6c-275b3ab585a5"
      },
      "outputs": [
        {
          "data": {
            "application/javascript": "\n    async function download(id, filename, size) {\n      if (!google.colab.kernel.accessAllowed) {\n        return;\n      }\n      const div = document.createElement('div');\n      const label = document.createElement('label');\n      label.textContent = `Downloading \"${filename}\": `;\n      div.appendChild(label);\n      const progress = document.createElement('progress');\n      progress.max = size;\n      div.appendChild(progress);\n      document.body.appendChild(div);\n\n      const buffers = [];\n      let downloaded = 0;\n\n      const channel = await google.colab.kernel.comms.open(id);\n      // Send a message to notify the kernel that we're ready.\n      channel.send({})\n\n      for await (const message of channel.messages) {\n        // Send a message to notify the kernel that we're ready.\n        channel.send({})\n        if (message.buffers) {\n          for (const buffer of message.buffers) {\n            buffers.push(buffer);\n            downloaded += buffer.byteLength;\n            progress.value = downloaded;\n          }\n        }\n      }\n      const blob = new Blob(buffers, {type: 'application/binary'});\n      const a = document.createElement('a');\n      a.href = window.URL.createObjectURL(blob);\n      a.download = filename;\n      div.appendChild(a);\n      a.click();\n      div.remove();\n    }\n  ",
            "text/plain": [
              "<IPython.core.display.Javascript object>"
            ]
          },
          "metadata": {},
          "output_type": "display_data"
        },
        {
          "data": {
            "application/javascript": "download(\"download_6490913b-1c49-430f-8f02-b525ba2e153c\", \"data_FRED-FEDFUNDS.json\", 136972)",
            "text/plain": [
              "<IPython.core.display.Javascript object>"
            ]
          },
          "metadata": {},
          "output_type": "display_data"
        }
      ],
      "source": [
        "files.download('{}'.format(fileName))"
      ]
    },
    {
      "cell_type": "markdown",
      "metadata": {
        "id": "mI4BDwuMR2IW"
      },
      "source": [
        "2nd Data "
      ]
    },
    {
      "cell_type": "code",
      "execution_count": null,
      "metadata": {
        "id": "rzUZxO6YR39m"
      },
      "outputs": [],
      "source": [
        "url = \"https://api.stlouisfed.org/fred/series/observations?series_id=UNRATE&api_key=4418e1c776d641898220ba78ec770625&file_type=json\""
      ]
    },
    {
      "cell_type": "code",
      "execution_count": null,
      "metadata": {
        "id": "vPTNDxZ3R8rf"
      },
      "outputs": [],
      "source": [
        "data = requests.get(url).json()"
      ]
    },
    {
      "cell_type": "code",
      "execution_count": null,
      "metadata": {
        "colab": {
          "base_uri": "https://localhost:8080/"
        },
        "id": "h-guIwmLR_Fd",
        "outputId": "05b9b996-f012-4c3f-a7ef-b66b5809763b"
      },
      "outputs": [],
      "source": [
        "print(data)"
      ]
    },
    {
      "cell_type": "code",
      "execution_count": null,
      "metadata": {
        "id": "FR7viWM6SBnY"
      },
      "outputs": [],
      "source": [
        "fileName = \"data_FRED-UNRATE.json\""
      ]
    },
    {
      "cell_type": "code",
      "execution_count": null,
      "metadata": {
        "colab": {
          "base_uri": "https://localhost:8080/"
        },
        "id": "bSBm5525SGFC",
        "outputId": "8e440bb1-2416-4554-f216-e6cf1bffbbfd"
      },
      "outputs": [
        {
          "name": "stdout",
          "output_type": "stream",
          "text": [
            "data_FRED-UNRATE.json\n"
          ]
        }
      ],
      "source": [
        "print(fileName)"
      ]
    },
    {
      "cell_type": "code",
      "execution_count": null,
      "metadata": {
        "id": "I-sZMWLMSIjW"
      },
      "outputs": [],
      "source": [
        "with open(fileName, 'w', encoding='utf-8') as f:\n",
        "  json.dump(data, f, ensure_ascii=False, indent=4)"
      ]
    },
    {
      "cell_type": "code",
      "execution_count": null,
      "metadata": {
        "colab": {
          "base_uri": "https://localhost:8080/",
          "height": 17
        },
        "id": "bSYLEI8zSKyA",
        "outputId": "770a2faa-fdbf-46d6-b2a8-89acbb3729ef"
      },
      "outputs": [
        {
          "data": {
            "application/javascript": "\n    async function download(id, filename, size) {\n      if (!google.colab.kernel.accessAllowed) {\n        return;\n      }\n      const div = document.createElement('div');\n      const label = document.createElement('label');\n      label.textContent = `Downloading \"${filename}\": `;\n      div.appendChild(label);\n      const progress = document.createElement('progress');\n      progress.max = size;\n      div.appendChild(progress);\n      document.body.appendChild(div);\n\n      const buffers = [];\n      let downloaded = 0;\n\n      const channel = await google.colab.kernel.comms.open(id);\n      // Send a message to notify the kernel that we're ready.\n      channel.send({})\n\n      for await (const message of channel.messages) {\n        // Send a message to notify the kernel that we're ready.\n        channel.send({})\n        if (message.buffers) {\n          for (const buffer of message.buffers) {\n            buffers.push(buffer);\n            downloaded += buffer.byteLength;\n            progress.value = downloaded;\n          }\n        }\n      }\n      const blob = new Blob(buffers, {type: 'application/binary'});\n      const a = document.createElement('a');\n      a.href = window.URL.createObjectURL(blob);\n      a.download = filename;\n      div.appendChild(a);\n      a.click();\n      div.remove();\n    }\n  ",
            "text/plain": [
              "<IPython.core.display.Javascript object>"
            ]
          },
          "metadata": {},
          "output_type": "display_data"
        },
        {
          "data": {
            "application/javascript": "download(\"download_0e923e70-e0e7-40f0-8a4f-7a9371b0e001\", \"data_FRED-UNRATE.json\", 149223)",
            "text/plain": [
              "<IPython.core.display.Javascript object>"
            ]
          },
          "metadata": {},
          "output_type": "display_data"
        }
      ],
      "source": [
        "files.download('{}'.format(fileName))"
      ]
    },
    {
      "cell_type": "markdown",
      "metadata": {
        "id": "y_xJkBMeTfvi"
      },
      "source": [
        "3rd Data\n"
      ]
    },
    {
      "cell_type": "code",
      "execution_count": null,
      "metadata": {
        "id": "4k5uqn28Tjqm"
      },
      "outputs": [],
      "source": [
        "url = \"https://api.stlouisfed.org/fred/series/observations?series_id=GNPCA&api_key=4418e1c776d641898220ba78ec770625&file_type=json\""
      ]
    },
    {
      "cell_type": "code",
      "execution_count": null,
      "metadata": {
        "id": "GrwDIlLJTqj9"
      },
      "outputs": [],
      "source": [
        "data = requests.get(url).json()"
      ]
    },
    {
      "cell_type": "code",
      "execution_count": null,
      "metadata": {
        "colab": {
          "base_uri": "https://localhost:8080/"
        },
        "id": "UeSTCAuITtBs",
        "outputId": "2fcbc106-ddfc-4894-993b-d868652424ce"
      },
      "outputs": [],
      "source": [
        "print(data)"
      ]
    },
    {
      "cell_type": "code",
      "execution_count": null,
      "metadata": {
        "id": "wNyQV5PITvLR"
      },
      "outputs": [],
      "source": [
        "fileName = \"data_FRED-GNPCA.json\""
      ]
    },
    {
      "cell_type": "code",
      "execution_count": null,
      "metadata": {
        "colab": {
          "base_uri": "https://localhost:8080/"
        },
        "id": "Fh5jdf3yTzZJ",
        "outputId": "d71a9267-0d45-432d-9728-3e02d56d1578"
      },
      "outputs": [
        {
          "name": "stdout",
          "output_type": "stream",
          "text": [
            "data_FRED-GNPCA.json\n"
          ]
        }
      ],
      "source": [
        "print(fileName)"
      ]
    },
    {
      "cell_type": "code",
      "execution_count": null,
      "metadata": {
        "id": "EndEIZyiT1ta"
      },
      "outputs": [],
      "source": [
        "with open(fileName, 'w', encoding='utf-8') as f:\n",
        "  json.dump(data, f, ensure_ascii=False, indent=4)"
      ]
    },
    {
      "cell_type": "code",
      "execution_count": null,
      "metadata": {
        "colab": {
          "base_uri": "https://localhost:8080/",
          "height": 17
        },
        "id": "oaRGN6ytT3kc",
        "outputId": "7a91e1f9-6565-4fe5-d131-2c154fa6fd9a"
      },
      "outputs": [
        {
          "data": {
            "application/javascript": "\n    async function download(id, filename, size) {\n      if (!google.colab.kernel.accessAllowed) {\n        return;\n      }\n      const div = document.createElement('div');\n      const label = document.createElement('label');\n      label.textContent = `Downloading \"${filename}\": `;\n      div.appendChild(label);\n      const progress = document.createElement('progress');\n      progress.max = size;\n      div.appendChild(progress);\n      document.body.appendChild(div);\n\n      const buffers = [];\n      let downloaded = 0;\n\n      const channel = await google.colab.kernel.comms.open(id);\n      // Send a message to notify the kernel that we're ready.\n      channel.send({})\n\n      for await (const message of channel.messages) {\n        // Send a message to notify the kernel that we're ready.\n        channel.send({})\n        if (message.buffers) {\n          for (const buffer of message.buffers) {\n            buffers.push(buffer);\n            downloaded += buffer.byteLength;\n            progress.value = downloaded;\n          }\n        }\n      }\n      const blob = new Blob(buffers, {type: 'application/binary'});\n      const a = document.createElement('a');\n      a.href = window.URL.createObjectURL(blob);\n      a.download = filename;\n      div.appendChild(a);\n      a.click();\n      div.remove();\n    }\n  ",
            "text/plain": [
              "<IPython.core.display.Javascript object>"
            ]
          },
          "metadata": {},
          "output_type": "display_data"
        },
        {
          "data": {
            "application/javascript": "download(\"download_78cb53c6-3afc-4b40-a09b-e7699addc7c3\", \"data_FRED-GNPCA.json\", 16292)",
            "text/plain": [
              "<IPython.core.display.Javascript object>"
            ]
          },
          "metadata": {},
          "output_type": "display_data"
        }
      ],
      "source": [
        "files.download('{}'.format(fileName))"
      ]
    },
    {
      "cell_type": "markdown",
      "metadata": {
        "id": "8f-hh4mQVeTl"
      },
      "source": [
        "4th Data"
      ]
    },
    {
      "cell_type": "code",
      "execution_count": null,
      "metadata": {
        "id": "TyQcve_IVkxT"
      },
      "outputs": [],
      "source": [
        "url = \"https://api.stlouisfed.org/fred/series/observations?series_id=INDPRO&api_key=4418e1c776d641898220ba78ec770625&file_type=json\""
      ]
    },
    {
      "cell_type": "code",
      "execution_count": null,
      "metadata": {
        "id": "gpMRwk97Vqte"
      },
      "outputs": [],
      "source": [
        "data = requests.get(url).json()"
      ]
    },
    {
      "cell_type": "code",
      "execution_count": null,
      "metadata": {
        "colab": {
          "base_uri": "https://localhost:8080/"
        },
        "id": "0IAEG-DkVtF6",
        "outputId": "5fa6fbcc-d204-47fc-9c36-a4c933596506"
      },
      "outputs": [],
      "source": [
        "print(data)"
      ]
    },
    {
      "cell_type": "code",
      "execution_count": null,
      "metadata": {
        "id": "yzo_jS0wVwmD"
      },
      "outputs": [],
      "source": [
        "fileName = \"data_FRED-INDPRO.json\""
      ]
    },
    {
      "cell_type": "code",
      "execution_count": null,
      "metadata": {
        "colab": {
          "base_uri": "https://localhost:8080/"
        },
        "id": "Yn4YTVVqVzHd",
        "outputId": "f94df124-9c60-4bec-fbe8-fb055f92c5a9"
      },
      "outputs": [
        {
          "name": "stdout",
          "output_type": "stream",
          "text": [
            "data_FRED-INDPRO.json\n"
          ]
        }
      ],
      "source": [
        "print(fileName)"
      ]
    },
    {
      "cell_type": "code",
      "execution_count": null,
      "metadata": {
        "id": "o4td49iNV06f"
      },
      "outputs": [],
      "source": [
        "with open(fileName, 'w', encoding='utf-8') as f:\n",
        "  json.dump(data, f, ensure_ascii=False, indent=4)"
      ]
    },
    {
      "cell_type": "code",
      "execution_count": null,
      "metadata": {
        "colab": {
          "base_uri": "https://localhost:8080/",
          "height": 17
        },
        "id": "2DEE62dMV3Kg",
        "outputId": "208414d9-1127-4477-e362-3edf2c6dc462"
      },
      "outputs": [
        {
          "data": {
            "application/javascript": "\n    async function download(id, filename, size) {\n      if (!google.colab.kernel.accessAllowed) {\n        return;\n      }\n      const div = document.createElement('div');\n      const label = document.createElement('label');\n      label.textContent = `Downloading \"${filename}\": `;\n      div.appendChild(label);\n      const progress = document.createElement('progress');\n      progress.max = size;\n      div.appendChild(progress);\n      document.body.appendChild(div);\n\n      const buffers = [];\n      let downloaded = 0;\n\n      const channel = await google.colab.kernel.comms.open(id);\n      // Send a message to notify the kernel that we're ready.\n      channel.send({})\n\n      for await (const message of channel.messages) {\n        // Send a message to notify the kernel that we're ready.\n        channel.send({})\n        if (message.buffers) {\n          for (const buffer of message.buffers) {\n            buffers.push(buffer);\n            downloaded += buffer.byteLength;\n            progress.value = downloaded;\n          }\n        }\n      }\n      const blob = new Blob(buffers, {type: 'application/binary'});\n      const a = document.createElement('a');\n      a.href = window.URL.createObjectURL(blob);\n      a.download = filename;\n      div.appendChild(a);\n      a.click();\n      div.remove();\n    }\n  ",
            "text/plain": [
              "<IPython.core.display.Javascript object>"
            ]
          },
          "metadata": {},
          "output_type": "display_data"
        },
        {
          "data": {
            "application/javascript": "download(\"download_46268782-b69d-4525-9b06-2f278308597b\", \"data_FRED-INDPRO.json\", 212425)",
            "text/plain": [
              "<IPython.core.display.Javascript object>"
            ]
          },
          "metadata": {},
          "output_type": "display_data"
        }
      ],
      "source": [
        "files.download('{}'.format(fileName))"
      ]
    }
  ],
  "metadata": {
    "colab": {
      "collapsed_sections": [],
      "name": "FRED_data.ipynb",
      "provenance": []
    },
    "kernelspec": {
      "display_name": "Python 3",
      "name": "python3"
    },
    "language_info": {
      "name": "python"
    }
  },
  "nbformat": 4,
  "nbformat_minor": 0
}
