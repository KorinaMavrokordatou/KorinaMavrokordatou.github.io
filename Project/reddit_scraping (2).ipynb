{
  "nbformat": 4,
  "nbformat_minor": 0,
  "metadata": {
    "colab": {
      "name": "reddit_scraping.ipynb",
      "provenance": [],
      "collapsed_sections": []
    },
    "kernelspec": {
      "name": "python3",
      "display_name": "Python 3"
    },
    "language_info": {
      "name": "python"
    }
  },
  "cells": [
    {
      "cell_type": "code",
      "execution_count": null,
      "metadata": {
        "id": "d6Ecgeto88IK"
      },
      "outputs": [],
      "source": [
        "!pip install praw"
      ]
    },
    {
      "cell_type": "code",
      "source": [
        "import praw\n",
        "import pandas as pd\n",
        "import numpy as np\n",
        "import datetime"
      ],
      "metadata": {
        "id": "v8jV913l89_n"
      },
      "execution_count": 2,
      "outputs": []
    },
    {
      "cell_type": "code",
      "source": [
        "reddit = praw.Reddit(\n",
        "    client_id=\"6b1s-HdyLZWGFvxIXgVeZw\",\n",
        "    client_secret=\"vFmoF6sjog2YQh87xVxYCgvCJH648g\",\n",
        "    user_agent=\"korinamavr\",\n",
        ")"
      ],
      "metadata": {
        "id": "swgFKNYy9Cs_"
      },
      "execution_count": 3,
      "outputs": []
    },
    {
      "cell_type": "code",
      "source": [
        "print(reddit.read_only)"
      ],
      "metadata": {
        "colab": {
          "base_uri": "https://localhost:8080/"
        },
        "id": "HGq3PnaE9a0v",
        "outputId": "64e422c1-5a73-45a4-be7f-cb2c2c1678bb"
      },
      "execution_count": 4,
      "outputs": [
        {
          "output_type": "stream",
          "name": "stdout",
          "text": [
            "True\n"
          ]
        }
      ]
    },
    {
      "cell_type": "code",
      "source": [
        "data = []\n",
        "for submission in reddit.subreddit('BlackLivesMatter').top(limit=20):\n",
        "    # print(\"Title:\", submission.title)\n",
        "    # print(\"Score:\", submission.num_comments)\n",
        "    # print(\"Posted at:\", submission.created)\n",
        "\n",
        "    dummy = {\"Title\": submission.title, \"Text\": submission.selftext , \"Comments\": submission.num_comments, \"Score\": submission.score}\n",
        "    data.append(dummy)"
      ],
      "metadata": {
        "id": "aUSTil9y9hCY"
      },
      "execution_count": null,
      "outputs": []
    },
    {
      "cell_type": "code",
      "source": [
        "type(data)\n",
        "df = pd.DataFrame(data, columns=['Title', 'Comments', 'Score'])\n",
        "df"
      ],
      "metadata": {
        "colab": {
          "base_uri": "https://localhost:8080/",
          "height": 571
        },
        "id": "XGcgMhEl-HYl",
        "outputId": "b87bbc81-fa76-42f8-c18a-d6f7b6327954"
      },
      "execution_count": 6,
      "outputs": [
        {
          "output_type": "execute_result",
          "data": {
            "text/html": [
              "\n",
              "  <div id=\"df-a1395deb-8e74-4530-b905-7bb21462a618\">\n",
              "    <div class=\"colab-df-container\">\n",
              "      <div>\n",
              "<style scoped>\n",
              "    .dataframe tbody tr th:only-of-type {\n",
              "        vertical-align: middle;\n",
              "    }\n",
              "\n",
              "    .dataframe tbody tr th {\n",
              "        vertical-align: top;\n",
              "    }\n",
              "\n",
              "    .dataframe thead th {\n",
              "        text-align: right;\n",
              "    }\n",
              "</style>\n",
              "<table border=\"1\" class=\"dataframe\">\n",
              "  <thead>\n",
              "    <tr style=\"text-align: right;\">\n",
              "      <th></th>\n",
              "      <th>Title</th>\n",
              "      <th>Comments</th>\n",
              "      <th>Score</th>\n",
              "    </tr>\n",
              "  </thead>\n",
              "  <tbody>\n",
              "    <tr>\n",
              "      <th>0</th>\n",
              "      <td>My neighbor has a Black Lives matter sign in h...</td>\n",
              "      <td>571</td>\n",
              "      <td>15857</td>\n",
              "    </tr>\n",
              "    <tr>\n",
              "      <th>1</th>\n",
              "      <td>Armed counter protesters show up and explain m...</td>\n",
              "      <td>499</td>\n",
              "      <td>7769</td>\n",
              "    </tr>\n",
              "    <tr>\n",
              "      <th>2</th>\n",
              "      <td>Still relevant - this was posted on Twitter 7/...</td>\n",
              "      <td>200</td>\n",
              "      <td>7438</td>\n",
              "    </tr>\n",
              "    <tr>\n",
              "      <th>3</th>\n",
              "      <td>It’s never too late</td>\n",
              "      <td>85</td>\n",
              "      <td>7056</td>\n",
              "    </tr>\n",
              "    <tr>\n",
              "      <th>4</th>\n",
              "      <td>This is the one</td>\n",
              "      <td>129</td>\n",
              "      <td>6133</td>\n",
              "    </tr>\n",
              "    <tr>\n",
              "      <th>5</th>\n",
              "      <td>Help spread this</td>\n",
              "      <td>143</td>\n",
              "      <td>5684</td>\n",
              "    </tr>\n",
              "    <tr>\n",
              "      <th>6</th>\n",
              "      <td>This dude started a racist group on fb then on...</td>\n",
              "      <td>196</td>\n",
              "      <td>5643</td>\n",
              "    </tr>\n",
              "    <tr>\n",
              "      <th>7</th>\n",
              "      <td>This is sad BLM</td>\n",
              "      <td>186</td>\n",
              "      <td>5479</td>\n",
              "    </tr>\n",
              "    <tr>\n",
              "      <th>8</th>\n",
              "      <td>Our new banner (in a VERY conservative town)</td>\n",
              "      <td>120</td>\n",
              "      <td>5147</td>\n",
              "    </tr>\n",
              "    <tr>\n",
              "      <th>9</th>\n",
              "      <td>Sad that this even has to be done.</td>\n",
              "      <td>98</td>\n",
              "      <td>4965</td>\n",
              "    </tr>\n",
              "    <tr>\n",
              "      <th>10</th>\n",
              "      <td>This is why people march</td>\n",
              "      <td>226</td>\n",
              "      <td>4920</td>\n",
              "    </tr>\n",
              "    <tr>\n",
              "      <th>11</th>\n",
              "      <td>A GOOD POINT</td>\n",
              "      <td>126</td>\n",
              "      <td>4883</td>\n",
              "    </tr>\n",
              "    <tr>\n",
              "      <th>12</th>\n",
              "      <td>Here’s how you do it!</td>\n",
              "      <td>133</td>\n",
              "      <td>4803</td>\n",
              "    </tr>\n",
              "    <tr>\n",
              "      <th>13</th>\n",
              "      <td>He is right, unfortunately.</td>\n",
              "      <td>46</td>\n",
              "      <td>4588</td>\n",
              "    </tr>\n",
              "    <tr>\n",
              "      <th>14</th>\n",
              "      <td>Two black men have been found hanging in trees...</td>\n",
              "      <td>337</td>\n",
              "      <td>4566</td>\n",
              "    </tr>\n",
              "    <tr>\n",
              "      <th>15</th>\n",
              "      <td>\"Whites ONLY\" signs were up for decades + segr...</td>\n",
              "      <td>81</td>\n",
              "      <td>4418</td>\n",
              "    </tr>\n",
              "    <tr>\n",
              "      <th>16</th>\n",
              "      <td>Cue the intro to Rick Ross' \"Tears of Joy\"</td>\n",
              "      <td>90</td>\n",
              "      <td>4408</td>\n",
              "    </tr>\n",
              "    <tr>\n",
              "      <th>17</th>\n",
              "      <td>Sit your dumbass down</td>\n",
              "      <td>70</td>\n",
              "      <td>4351</td>\n",
              "    </tr>\n",
              "    <tr>\n",
              "      <th>18</th>\n",
              "      <td>Arrest the killers of Breonna Taylor</td>\n",
              "      <td>15</td>\n",
              "      <td>4334</td>\n",
              "    </tr>\n",
              "    <tr>\n",
              "      <th>19</th>\n",
              "      <td>Suddenly I’m a huge fan of the Tampa Bay Rays</td>\n",
              "      <td>48</td>\n",
              "      <td>4331</td>\n",
              "    </tr>\n",
              "  </tbody>\n",
              "</table>\n",
              "</div>\n",
              "      <button class=\"colab-df-convert\" onclick=\"convertToInteractive('df-a1395deb-8e74-4530-b905-7bb21462a618')\"\n",
              "              title=\"Convert this dataframe to an interactive table.\"\n",
              "              style=\"display:none;\">\n",
              "        \n",
              "  <svg xmlns=\"http://www.w3.org/2000/svg\" height=\"24px\"viewBox=\"0 0 24 24\"\n",
              "       width=\"24px\">\n",
              "    <path d=\"M0 0h24v24H0V0z\" fill=\"none\"/>\n",
              "    <path d=\"M18.56 5.44l.94 2.06.94-2.06 2.06-.94-2.06-.94-.94-2.06-.94 2.06-2.06.94zm-11 1L8.5 8.5l.94-2.06 2.06-.94-2.06-.94L8.5 2.5l-.94 2.06-2.06.94zm10 10l.94 2.06.94-2.06 2.06-.94-2.06-.94-.94-2.06-.94 2.06-2.06.94z\"/><path d=\"M17.41 7.96l-1.37-1.37c-.4-.4-.92-.59-1.43-.59-.52 0-1.04.2-1.43.59L10.3 9.45l-7.72 7.72c-.78.78-.78 2.05 0 2.83L4 21.41c.39.39.9.59 1.41.59.51 0 1.02-.2 1.41-.59l7.78-7.78 2.81-2.81c.8-.78.8-2.07 0-2.86zM5.41 20L4 18.59l7.72-7.72 1.47 1.35L5.41 20z\"/>\n",
              "  </svg>\n",
              "      </button>\n",
              "      \n",
              "  <style>\n",
              "    .colab-df-container {\n",
              "      display:flex;\n",
              "      flex-wrap:wrap;\n",
              "      gap: 12px;\n",
              "    }\n",
              "\n",
              "    .colab-df-convert {\n",
              "      background-color: #E8F0FE;\n",
              "      border: none;\n",
              "      border-radius: 50%;\n",
              "      cursor: pointer;\n",
              "      display: none;\n",
              "      fill: #1967D2;\n",
              "      height: 32px;\n",
              "      padding: 0 0 0 0;\n",
              "      width: 32px;\n",
              "    }\n",
              "\n",
              "    .colab-df-convert:hover {\n",
              "      background-color: #E2EBFA;\n",
              "      box-shadow: 0px 1px 2px rgba(60, 64, 67, 0.3), 0px 1px 3px 1px rgba(60, 64, 67, 0.15);\n",
              "      fill: #174EA6;\n",
              "    }\n",
              "\n",
              "    [theme=dark] .colab-df-convert {\n",
              "      background-color: #3B4455;\n",
              "      fill: #D2E3FC;\n",
              "    }\n",
              "\n",
              "    [theme=dark] .colab-df-convert:hover {\n",
              "      background-color: #434B5C;\n",
              "      box-shadow: 0px 1px 3px 1px rgba(0, 0, 0, 0.15);\n",
              "      filter: drop-shadow(0px 1px 2px rgba(0, 0, 0, 0.3));\n",
              "      fill: #FFFFFF;\n",
              "    }\n",
              "  </style>\n",
              "\n",
              "      <script>\n",
              "        const buttonEl =\n",
              "          document.querySelector('#df-a1395deb-8e74-4530-b905-7bb21462a618 button.colab-df-convert');\n",
              "        buttonEl.style.display =\n",
              "          google.colab.kernel.accessAllowed ? 'block' : 'none';\n",
              "\n",
              "        async function convertToInteractive(key) {\n",
              "          const element = document.querySelector('#df-a1395deb-8e74-4530-b905-7bb21462a618');\n",
              "          const dataTable =\n",
              "            await google.colab.kernel.invokeFunction('convertToInteractive',\n",
              "                                                     [key], {});\n",
              "          if (!dataTable) return;\n",
              "\n",
              "          const docLinkHtml = 'Like what you see? Visit the ' +\n",
              "            '<a target=\"_blank\" href=https://colab.research.google.com/notebooks/data_table.ipynb>data table notebook</a>'\n",
              "            + ' to learn more about interactive tables.';\n",
              "          element.innerHTML = '';\n",
              "          dataTable['output_type'] = 'display_data';\n",
              "          await google.colab.output.renderOutput(dataTable, element);\n",
              "          const docLink = document.createElement('div');\n",
              "          docLink.innerHTML = docLinkHtml;\n",
              "          element.appendChild(docLink);\n",
              "        }\n",
              "      </script>\n",
              "    </div>\n",
              "  </div>\n",
              "  "
            ],
            "text/plain": [
              "                                                Title  Comments  Score\n",
              "0   My neighbor has a Black Lives matter sign in h...       571  15857\n",
              "1   Armed counter protesters show up and explain m...       499   7769\n",
              "2   Still relevant - this was posted on Twitter 7/...       200   7438\n",
              "3                                 It’s never too late        85   7056\n",
              "4                                     This is the one       129   6133\n",
              "5                                    Help spread this       143   5684\n",
              "6   This dude started a racist group on fb then on...       196   5643\n",
              "7                                     This is sad BLM       186   5479\n",
              "8        Our new banner (in a VERY conservative town)       120   5147\n",
              "9                  Sad that this even has to be done.        98   4965\n",
              "10                           This is why people march       226   4920\n",
              "11                                       A GOOD POINT       126   4883\n",
              "12                              Here’s how you do it!       133   4803\n",
              "13                        He is right, unfortunately.        46   4588\n",
              "14  Two black men have been found hanging in trees...       337   4566\n",
              "15  \"Whites ONLY\" signs were up for decades + segr...        81   4418\n",
              "16         Cue the intro to Rick Ross' \"Tears of Joy\"        90   4408\n",
              "17                              Sit your dumbass down        70   4351\n",
              "18               Arrest the killers of Breonna Taylor        15   4334\n",
              "19      Suddenly I’m a huge fan of the Tampa Bay Rays        48   4331"
            ]
          },
          "metadata": {},
          "execution_count": 6
        }
      ]
    },
    {
      "cell_type": "code",
      "source": [
        "df.to_csv('Reddit_data_analysis.csv')"
      ],
      "metadata": {
        "id": "Bmu5Lmnk6LJC"
      },
      "execution_count": 7,
      "outputs": []
    },
    {
      "cell_type": "code",
      "source": [
        "df2 = df.head(20)"
      ],
      "metadata": {
        "id": "wpyF9BZfKXzC"
      },
      "execution_count": 8,
      "outputs": []
    },
    {
      "cell_type": "code",
      "source": [
        "df2.to_csv('Reddit_data_analysis_2.csv')"
      ],
      "metadata": {
        "id": "IgyXPQGXKBtH"
      },
      "execution_count": 9,
      "outputs": []
    }
  ]
}