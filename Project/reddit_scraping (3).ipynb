{
  "nbformat": 4,
  "nbformat_minor": 0,
  "metadata": {
    "colab": {
      "name": "reddit_scraping.ipynb",
      "provenance": [],
      "collapsed_sections": []
    },
    "kernelspec": {
      "name": "python3",
      "display_name": "Python 3"
    },
    "language_info": {
      "name": "python"
    }
  },
  "cells": [
    {
      "cell_type": "code",
      "execution_count": null,
      "metadata": {
        "id": "d6Ecgeto88IK"
      },
      "outputs": [],
      "source": [
        "!pip install praw"
      ]
    },
    {
      "cell_type": "code",
      "source": [
        "import praw\n",
        "import pandas as pd\n",
        "import numpy as np\n",
        "import datetime"
      ],
      "metadata": {
        "id": "v8jV913l89_n"
      },
      "execution_count": 24,
      "outputs": []
    },
    {
      "cell_type": "code",
      "source": [
        "reddit = praw.Reddit(\n",
        "    client_id=\"6b1s-HdyLZWGFvxIXgVeZw\",\n",
        "    client_secret=\"vFmoF6sjog2YQh87xVxYCgvCJH648g\",\n",
        "    user_agent=\"korinamavr\",\n",
        ")"
      ],
      "metadata": {
        "id": "swgFKNYy9Cs_"
      },
      "execution_count": null,
      "outputs": []
    },
    {
      "cell_type": "code",
      "source": [
        "print(reddit.read_only)"
      ],
      "metadata": {
        "colab": {
          "base_uri": "https://localhost:8080/"
        },
        "id": "HGq3PnaE9a0v",
        "outputId": "64e422c1-5a73-45a4-be7f-cb2c2c1678bb"
      },
      "execution_count": null,
      "outputs": [
        {
          "output_type": "stream",
          "name": "stdout",
          "text": [
            "True\n"
          ]
        }
      ]
    },
    {
      "cell_type": "code",
      "source": [
        "data = []\n",
        "for submission in reddit.subreddit('BlackLivesMatter').top(limit=20):\n",
        "    # print(\"Title:\", submission.title)\n",
        "    # print(\"Score:\", submission.num_comments)\n",
        "    # print(\"Posted at:\", submission.created)\n",
        "\n",
        "    dummy = {\"Title\": submission.title, \"Text\": submission.selftext , \"Comments\": submission.num_comments, \"Score\": submission.score, \"Date\": submission.created}\n",
        "    data.append(dummy)"
      ],
      "metadata": {
        "id": "aUSTil9y9hCY"
      },
      "execution_count": null,
      "outputs": []
    },
    {
      "cell_type": "code",
      "source": [
        "type(data)\n",
        "df = pd.DataFrame(data, columns=['Title', 'Comments', 'Score', 'Date'])"
      ],
      "metadata": {
        "id": "XGcgMhEl-HYl"
      },
      "execution_count": 49,
      "outputs": []
    },
    {
      "cell_type": "code",
      "source": [
        "datetimes = pd.to_datetime(df[\"Date\"], unit = \"s\")\n",
        "df[\"Date\"] = datetimes"
      ],
      "metadata": {
        "id": "3yeqkClf4pJu"
      },
      "execution_count": 50,
      "outputs": []
    },
    {
      "cell_type": "code",
      "source": [
        "df['year'] = pd.DatetimeIndex(df['Date']).year"
      ],
      "metadata": {
        "id": "dlUr4dl05avY"
      },
      "execution_count": 51,
      "outputs": []
    },
    {
      "cell_type": "code",
      "source": [
        "df2 = df.drop(columns=['Date'])"
      ],
      "metadata": {
        "id": "r11zFx_B50bC"
      },
      "execution_count": 52,
      "outputs": []
    },
    {
      "cell_type": "code",
      "source": [
        "df2.columns= ['Title', 'Comments', 'Score', 'Year']"
      ],
      "metadata": {
        "id": "qKMG2gCu565N"
      },
      "execution_count": 53,
      "outputs": []
    },
    {
      "cell_type": "code",
      "source": [
        "df2"
      ],
      "metadata": {
        "id": "O-Q0P0KS6ikl"
      },
      "execution_count": null,
      "outputs": []
    },
    {
      "cell_type": "code",
      "source": [
        "df2.to_csv('Reddit_data_analysis.csv')"
      ],
      "metadata": {
        "id": "Bmu5Lmnk6LJC"
      },
      "execution_count": 55,
      "outputs": []
    },
    {
      "cell_type": "code",
      "source": [
        "df3 = df2.head(20)"
      ],
      "metadata": {
        "id": "wpyF9BZfKXzC"
      },
      "execution_count": 56,
      "outputs": []
    },
    {
      "cell_type": "code",
      "source": [
        "df3.to_csv('Reddit_data_analysis_2.csv')"
      ],
      "metadata": {
        "id": "IgyXPQGXKBtH"
      },
      "execution_count": 57,
      "outputs": []
    }
  ]
}