{
  "nbformat": 4,
  "nbformat_minor": 0,
  "metadata": {
    "colab": {
      "name": "celebrities_blm.ipynb",
      "provenance": []
    },
    "kernelspec": {
      "name": "python3",
      "display_name": "Python 3"
    },
    "language_info": {
      "name": "python"
    }
  },
  "cells": [
    {
      "cell_type": "code",
      "execution_count": 1,
      "metadata": {
        "id": "NE5-oBnyu0aa"
      },
      "outputs": [],
      "source": [
        "import requests \n",
        "import pandas as pd"
      ]
    },
    {
      "cell_type": "code",
      "source": [
        "url ='https://www.harpersbazaar.com.sg/life/celebrities-gone-above-beyond-support-blm/'"
      ],
      "metadata": {
        "id": "VMjTkxzEu3Qm"
      },
      "execution_count": 7,
      "outputs": []
    },
    {
      "cell_type": "code",
      "source": [
        "from bs4 import BeautifulSoup"
      ],
      "metadata": {
        "id": "isxq0FaKu--a"
      },
      "execution_count": 8,
      "outputs": []
    },
    {
      "cell_type": "code",
      "source": [
        "soup = BeautifulSoup(html.content, 'html.parser')"
      ],
      "metadata": {
        "id": "rffJPVc8vOnK"
      },
      "execution_count": 9,
      "outputs": []
    },
    {
      "cell_type": "code",
      "source": [
        "Celebrities = soup.findAll('h2')"
      ],
      "metadata": {
        "id": "xqCDpZgrvRfb"
      },
      "execution_count": 59,
      "outputs": []
    },
    {
      "cell_type": "code",
      "source": [
        "Instagram_Followers = ['', '1.6 Million', '3.9 Million, 190 Million', '287 Million', '48.2 Million', '230 Million', '98.9 Million', '31 Million, 40.9 Million', '35.7 Million', '100 Million', '7.1 Million, 1.3 Million', '71.7 Million', '27.8 Million', '42.4 Million', '1.4 Million, 9.9 Million', '12.9 Million, 14.9 Million', '10.7 Million', '9.7 Million', '29.3 Million', '9.2 Million', '17.4 Million', '24.8 Million', '116 Million', '3.5 Million', '35.6 Million', '7.2 Million']"
      ],
      "metadata": {
        "id": "tP1zGVh4vuMu"
      },
      "execution_count": 60,
      "outputs": []
    },
    {
      "cell_type": "markdown",
      "source": [
        "The instagram followers data was obtained from an external source and written manually."
      ],
      "metadata": {
        "id": "Vo8TQSmY03jG"
      }
    },
    {
      "cell_type": "code",
      "source": [
        "table = pd.DataFrame([Celebrity_names, Instagram_Followers]).T"
      ],
      "metadata": {
        "id": "8lZNFlv5zvci"
      },
      "execution_count": 61,
      "outputs": []
    },
    {
      "cell_type": "code",
      "source": [
        "table2 = table.head(26)"
      ],
      "metadata": {
        "id": "yINo6AW00mqW"
      },
      "execution_count": 62,
      "outputs": []
    },
    {
      "cell_type": "code",
      "source": [
        "table3 = table2.tail(25)"
      ],
      "metadata": {
        "id": "KjL5__2r0uf3"
      },
      "execution_count": 63,
      "outputs": []
    },
    {
      "cell_type": "code",
      "source": [
        "table3.columns = ['Celebrity', 'Instagram Following']"
      ],
      "metadata": {
        "id": "ynLiGJH601rr"
      },
      "execution_count": 64,
      "outputs": []
    },
    {
      "cell_type": "code",
      "source": [
        "table3.to_csv('celebritiesblm.csv')"
      ],
      "metadata": {
        "id": "VvWXbgSV1N_h"
      },
      "execution_count": 66,
      "outputs": []
    },
    {
      "cell_type": "code",
      "source": [
        "fileName = \"celebrities_blm.csv\""
      ],
      "metadata": {
        "id": "M6erJTSP1eID"
      },
      "execution_count": 67,
      "outputs": []
    },
    {
      "cell_type": "code",
      "source": [
        "print(fileName)"
      ],
      "metadata": {
        "colab": {
          "base_uri": "https://localhost:8080/"
        },
        "id": "uxuCj7kX1hVh",
        "outputId": "64e19b3d-0343-4610-f957-82e117315778"
      },
      "execution_count": 68,
      "outputs": [
        {
          "output_type": "stream",
          "name": "stdout",
          "text": [
            "celebrities_blm.csv\n"
          ]
        }
      ]
    }
  ]
}