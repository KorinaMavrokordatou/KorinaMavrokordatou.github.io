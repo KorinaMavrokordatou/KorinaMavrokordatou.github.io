{
  "nbformat": 4,
  "nbformat_minor": 0,
  "metadata": {
    "colab": {
      "name": "reddit_scraping.ipynb",
      "provenance": [],
      "collapsed_sections": []
    },
    "kernelspec": {
      "name": "python3",
      "display_name": "Python 3"
    },
    "language_info": {
      "name": "python"
    }
  },
  "cells": [
    {
      "cell_type": "code",
      "execution_count": 1,
      "metadata": {
        "id": "d6Ecgeto88IK",
        "colab": {
          "base_uri": "https://localhost:8080/"
        },
        "outputId": "b59ff6bf-995b-4622-d7f5-6f410e82e940"
      },
      "outputs": [
        {
          "output_type": "stream",
          "name": "stdout",
          "text": [
            "Collecting praw\n",
            "  Downloading praw-7.5.0-py3-none-any.whl (176 kB)\n",
            "\u001b[?25l\r\u001b[K     |█▉                              | 10 kB 33.8 MB/s eta 0:00:01\r\u001b[K     |███▊                            | 20 kB 38.2 MB/s eta 0:00:01\r\u001b[K     |█████▋                          | 30 kB 22.0 MB/s eta 0:00:01\r\u001b[K     |███████▍                        | 40 kB 17.2 MB/s eta 0:00:01\r\u001b[K     |█████████▎                      | 51 kB 16.3 MB/s eta 0:00:01\r\u001b[K     |███████████▏                    | 61 kB 15.0 MB/s eta 0:00:01\r\u001b[K     |█████████████                   | 71 kB 13.9 MB/s eta 0:00:01\r\u001b[K     |██████████████▉                 | 81 kB 15.4 MB/s eta 0:00:01\r\u001b[K     |████████████████▊               | 92 kB 12.7 MB/s eta 0:00:01\r\u001b[K     |██████████████████▋             | 102 kB 13.7 MB/s eta 0:00:01\r\u001b[K     |████████████████████▍           | 112 kB 13.7 MB/s eta 0:00:01\r\u001b[K     |██████████████████████▎         | 122 kB 13.7 MB/s eta 0:00:01\r\u001b[K     |████████████████████████▏       | 133 kB 13.7 MB/s eta 0:00:01\r\u001b[K     |██████████████████████████      | 143 kB 13.7 MB/s eta 0:00:01\r\u001b[K     |███████████████████████████▉    | 153 kB 13.7 MB/s eta 0:00:01\r\u001b[K     |█████████████████████████████▊  | 163 kB 13.7 MB/s eta 0:00:01\r\u001b[K     |███████████████████████████████▌| 174 kB 13.7 MB/s eta 0:00:01\r\u001b[K     |████████████████████████████████| 176 kB 13.7 MB/s \n",
            "\u001b[?25hCollecting websocket-client>=0.54.0\n",
            "  Downloading websocket_client-1.2.3-py3-none-any.whl (53 kB)\n",
            "\u001b[?25l\r\u001b[K     |██████▏                         | 10 kB 23.5 MB/s eta 0:00:01\r\u001b[K     |████████████▎                   | 20 kB 27.6 MB/s eta 0:00:01\r\u001b[K     |██████████████████▍             | 30 kB 32.6 MB/s eta 0:00:01\r\u001b[K     |████████████████████████▌       | 40 kB 36.2 MB/s eta 0:00:01\r\u001b[K     |██████████████████████████████▋ | 51 kB 39.3 MB/s eta 0:00:01\r\u001b[K     |████████████████████████████████| 53 kB 1.7 MB/s \n",
            "\u001b[?25hCollecting update-checker>=0.18\n",
            "  Downloading update_checker-0.18.0-py3-none-any.whl (7.0 kB)\n",
            "Collecting prawcore<3,>=2.1\n",
            "  Downloading prawcore-2.3.0-py3-none-any.whl (16 kB)\n",
            "Requirement already satisfied: requests<3.0,>=2.6.0 in /usr/local/lib/python3.7/dist-packages (from prawcore<3,>=2.1->praw) (2.23.0)\n",
            "Requirement already satisfied: chardet<4,>=3.0.2 in /usr/local/lib/python3.7/dist-packages (from requests<3.0,>=2.6.0->prawcore<3,>=2.1->praw) (3.0.4)\n",
            "Requirement already satisfied: certifi>=2017.4.17 in /usr/local/lib/python3.7/dist-packages (from requests<3.0,>=2.6.0->prawcore<3,>=2.1->praw) (2021.10.8)\n",
            "Requirement already satisfied: idna<3,>=2.5 in /usr/local/lib/python3.7/dist-packages (from requests<3.0,>=2.6.0->prawcore<3,>=2.1->praw) (2.10)\n",
            "Requirement already satisfied: urllib3!=1.25.0,!=1.25.1,<1.26,>=1.21.1 in /usr/local/lib/python3.7/dist-packages (from requests<3.0,>=2.6.0->prawcore<3,>=2.1->praw) (1.24.3)\n",
            "Installing collected packages: websocket-client, update-checker, prawcore, praw\n",
            "Successfully installed praw-7.5.0 prawcore-2.3.0 update-checker-0.18.0 websocket-client-1.2.3\n"
          ]
        }
      ],
      "source": [
        "!pip install praw"
      ]
    },
    {
      "cell_type": "code",
      "source": [
        "import praw\n",
        "import pandas as pd\n",
        "import numpy as np\n",
        "import datetime"
      ],
      "metadata": {
        "id": "v8jV913l89_n"
      },
      "execution_count": 2,
      "outputs": []
    },
    {
      "cell_type": "code",
      "source": [
        "from datetime import date"
      ],
      "metadata": {
        "id": "5Wzhl69P7oqz"
      },
      "execution_count": 3,
      "outputs": []
    },
    {
      "cell_type": "code",
      "source": [
        "reddit = praw.Reddit(\n",
        "    client_id=\"6b1s-HdyLZWGFvxIXgVeZw\",\n",
        "    client_secret=\"vFmoF6sjog2YQh87xVxYCgvCJH648g\",\n",
        "    user_agent=\"korinamavr\",\n",
        ")"
      ],
      "metadata": {
        "id": "swgFKNYy9Cs_"
      },
      "execution_count": 4,
      "outputs": []
    },
    {
      "cell_type": "code",
      "source": [
        "print(reddit.read_only)"
      ],
      "metadata": {
        "colab": {
          "base_uri": "https://localhost:8080/"
        },
        "id": "HGq3PnaE9a0v",
        "outputId": "310231e6-053d-4585-d0a4-e0581c897454"
      },
      "execution_count": 5,
      "outputs": [
        {
          "output_type": "stream",
          "name": "stdout",
          "text": [
            "True\n"
          ]
        }
      ]
    },
    {
      "cell_type": "code",
      "source": [
        "data = []\n",
        "for submission in reddit.subreddit('BlackLivesMatter').top(limit=10):\n",
        "    # print(\"Title:\", submission.title)\n",
        "    # print(\"Score:\", submission.num_comments)\n",
        "    # print(\"Posted at:\", submission.created)\n",
        "\n",
        "    dummy = {\"Title\": submission.title, \"Text\": submission.selftext , \"Comments\": submission.num_comments, \"DateTime\": submission.created, \"Score\": submission.score}\n",
        "    data.append(dummy)"
      ],
      "metadata": {
        "id": "aUSTil9y9hCY",
        "colab": {
          "base_uri": "https://localhost:8080/"
        },
        "outputId": "fa173858-bf7e-422d-d39e-88cd4c353c7f"
      },
      "execution_count": 18,
      "outputs": [
        {
          "output_type": "stream",
          "name": "stderr",
          "text": [
            "It appears that you are using PRAW in an asynchronous environment.\n",
            "It is strongly recommended to use Async PRAW: https://asyncpraw.readthedocs.io.\n",
            "See https://praw.readthedocs.io/en/latest/getting_started/multiple_instances.html#discord-bots-and-asynchronous-environments for more info.\n",
            "\n"
          ]
        }
      ]
    },
    {
      "cell_type": "code",
      "source": [
        "type(data)\n",
        "df = pd.DataFrame(data, columns=['Title', 'Comments', 'DateTime', 'Score'])\n",
        "df"
      ],
      "metadata": {
        "colab": {
          "base_uri": "https://localhost:8080/",
          "height": 363
        },
        "id": "XGcgMhEl-HYl",
        "outputId": "7ecf64cd-b4ab-4195-84be-8fef1c61b030"
      },
      "execution_count": 19,
      "outputs": [
        {
          "output_type": "execute_result",
          "data": {
            "text/html": [
              "\n",
              "  <div id=\"df-764809fb-7590-4921-a873-ab0a8ead979e\">\n",
              "    <div class=\"colab-df-container\">\n",
              "      <div>\n",
              "<style scoped>\n",
              "    .dataframe tbody tr th:only-of-type {\n",
              "        vertical-align: middle;\n",
              "    }\n",
              "\n",
              "    .dataframe tbody tr th {\n",
              "        vertical-align: top;\n",
              "    }\n",
              "\n",
              "    .dataframe thead th {\n",
              "        text-align: right;\n",
              "    }\n",
              "</style>\n",
              "<table border=\"1\" class=\"dataframe\">\n",
              "  <thead>\n",
              "    <tr style=\"text-align: right;\">\n",
              "      <th></th>\n",
              "      <th>Title</th>\n",
              "      <th>Comments</th>\n",
              "      <th>DateTime</th>\n",
              "      <th>Score</th>\n",
              "    </tr>\n",
              "  </thead>\n",
              "  <tbody>\n",
              "    <tr>\n",
              "      <th>0</th>\n",
              "      <td>My neighbor has a Black Lives matter sign in h...</td>\n",
              "      <td>571</td>\n",
              "      <td>1.603139e+09</td>\n",
              "      <td>15865</td>\n",
              "    </tr>\n",
              "    <tr>\n",
              "      <th>1</th>\n",
              "      <td>Armed counter protesters show up and explain m...</td>\n",
              "      <td>499</td>\n",
              "      <td>1.593698e+09</td>\n",
              "      <td>7758</td>\n",
              "    </tr>\n",
              "    <tr>\n",
              "      <th>2</th>\n",
              "      <td>Still relevant - this was posted on Twitter 7/...</td>\n",
              "      <td>200</td>\n",
              "      <td>1.610707e+09</td>\n",
              "      <td>7444</td>\n",
              "    </tr>\n",
              "    <tr>\n",
              "      <th>3</th>\n",
              "      <td>It’s never too late</td>\n",
              "      <td>85</td>\n",
              "      <td>1.600882e+09</td>\n",
              "      <td>7059</td>\n",
              "    </tr>\n",
              "    <tr>\n",
              "      <th>4</th>\n",
              "      <td>This is the one</td>\n",
              "      <td>129</td>\n",
              "      <td>1.596456e+09</td>\n",
              "      <td>6126</td>\n",
              "    </tr>\n",
              "    <tr>\n",
              "      <th>5</th>\n",
              "      <td>Help spread this</td>\n",
              "      <td>143</td>\n",
              "      <td>1.593172e+09</td>\n",
              "      <td>5674</td>\n",
              "    </tr>\n",
              "    <tr>\n",
              "      <th>6</th>\n",
              "      <td>This dude started a racist group on fb then on...</td>\n",
              "      <td>196</td>\n",
              "      <td>1.593284e+09</td>\n",
              "      <td>5639</td>\n",
              "    </tr>\n",
              "    <tr>\n",
              "      <th>7</th>\n",
              "      <td>This is sad BLM</td>\n",
              "      <td>186</td>\n",
              "      <td>1.599675e+09</td>\n",
              "      <td>5478</td>\n",
              "    </tr>\n",
              "    <tr>\n",
              "      <th>8</th>\n",
              "      <td>Our new banner (in a VERY conservative town)</td>\n",
              "      <td>120</td>\n",
              "      <td>1.600627e+09</td>\n",
              "      <td>5150</td>\n",
              "    </tr>\n",
              "    <tr>\n",
              "      <th>9</th>\n",
              "      <td>Sad that this even has to be done.</td>\n",
              "      <td>98</td>\n",
              "      <td>1.593534e+09</td>\n",
              "      <td>4965</td>\n",
              "    </tr>\n",
              "  </tbody>\n",
              "</table>\n",
              "</div>\n",
              "      <button class=\"colab-df-convert\" onclick=\"convertToInteractive('df-764809fb-7590-4921-a873-ab0a8ead979e')\"\n",
              "              title=\"Convert this dataframe to an interactive table.\"\n",
              "              style=\"display:none;\">\n",
              "        \n",
              "  <svg xmlns=\"http://www.w3.org/2000/svg\" height=\"24px\"viewBox=\"0 0 24 24\"\n",
              "       width=\"24px\">\n",
              "    <path d=\"M0 0h24v24H0V0z\" fill=\"none\"/>\n",
              "    <path d=\"M18.56 5.44l.94 2.06.94-2.06 2.06-.94-2.06-.94-.94-2.06-.94 2.06-2.06.94zm-11 1L8.5 8.5l.94-2.06 2.06-.94-2.06-.94L8.5 2.5l-.94 2.06-2.06.94zm10 10l.94 2.06.94-2.06 2.06-.94-2.06-.94-.94-2.06-.94 2.06-2.06.94z\"/><path d=\"M17.41 7.96l-1.37-1.37c-.4-.4-.92-.59-1.43-.59-.52 0-1.04.2-1.43.59L10.3 9.45l-7.72 7.72c-.78.78-.78 2.05 0 2.83L4 21.41c.39.39.9.59 1.41.59.51 0 1.02-.2 1.41-.59l7.78-7.78 2.81-2.81c.8-.78.8-2.07 0-2.86zM5.41 20L4 18.59l7.72-7.72 1.47 1.35L5.41 20z\"/>\n",
              "  </svg>\n",
              "      </button>\n",
              "      \n",
              "  <style>\n",
              "    .colab-df-container {\n",
              "      display:flex;\n",
              "      flex-wrap:wrap;\n",
              "      gap: 12px;\n",
              "    }\n",
              "\n",
              "    .colab-df-convert {\n",
              "      background-color: #E8F0FE;\n",
              "      border: none;\n",
              "      border-radius: 50%;\n",
              "      cursor: pointer;\n",
              "      display: none;\n",
              "      fill: #1967D2;\n",
              "      height: 32px;\n",
              "      padding: 0 0 0 0;\n",
              "      width: 32px;\n",
              "    }\n",
              "\n",
              "    .colab-df-convert:hover {\n",
              "      background-color: #E2EBFA;\n",
              "      box-shadow: 0px 1px 2px rgba(60, 64, 67, 0.3), 0px 1px 3px 1px rgba(60, 64, 67, 0.15);\n",
              "      fill: #174EA6;\n",
              "    }\n",
              "\n",
              "    [theme=dark] .colab-df-convert {\n",
              "      background-color: #3B4455;\n",
              "      fill: #D2E3FC;\n",
              "    }\n",
              "\n",
              "    [theme=dark] .colab-df-convert:hover {\n",
              "      background-color: #434B5C;\n",
              "      box-shadow: 0px 1px 3px 1px rgba(0, 0, 0, 0.15);\n",
              "      filter: drop-shadow(0px 1px 2px rgba(0, 0, 0, 0.3));\n",
              "      fill: #FFFFFF;\n",
              "    }\n",
              "  </style>\n",
              "\n",
              "      <script>\n",
              "        const buttonEl =\n",
              "          document.querySelector('#df-764809fb-7590-4921-a873-ab0a8ead979e button.colab-df-convert');\n",
              "        buttonEl.style.display =\n",
              "          google.colab.kernel.accessAllowed ? 'block' : 'none';\n",
              "\n",
              "        async function convertToInteractive(key) {\n",
              "          const element = document.querySelector('#df-764809fb-7590-4921-a873-ab0a8ead979e');\n",
              "          const dataTable =\n",
              "            await google.colab.kernel.invokeFunction('convertToInteractive',\n",
              "                                                     [key], {});\n",
              "          if (!dataTable) return;\n",
              "\n",
              "          const docLinkHtml = 'Like what you see? Visit the ' +\n",
              "            '<a target=\"_blank\" href=https://colab.research.google.com/notebooks/data_table.ipynb>data table notebook</a>'\n",
              "            + ' to learn more about interactive tables.';\n",
              "          element.innerHTML = '';\n",
              "          dataTable['output_type'] = 'display_data';\n",
              "          await google.colab.output.renderOutput(dataTable, element);\n",
              "          const docLink = document.createElement('div');\n",
              "          docLink.innerHTML = docLinkHtml;\n",
              "          element.appendChild(docLink);\n",
              "        }\n",
              "      </script>\n",
              "    </div>\n",
              "  </div>\n",
              "  "
            ],
            "text/plain": [
              "                                               Title  ...  Score\n",
              "0  My neighbor has a Black Lives matter sign in h...  ...  15865\n",
              "1  Armed counter protesters show up and explain m...  ...   7758\n",
              "2  Still relevant - this was posted on Twitter 7/...  ...   7444\n",
              "3                                It’s never too late  ...   7059\n",
              "4                                    This is the one  ...   6126\n",
              "5                                   Help spread this  ...   5674\n",
              "6  This dude started a racist group on fb then on...  ...   5639\n",
              "7                                    This is sad BLM  ...   5478\n",
              "8       Our new banner (in a VERY conservative town)  ...   5150\n",
              "9                 Sad that this even has to be done.  ...   4965\n",
              "\n",
              "[10 rows x 4 columns]"
            ]
          },
          "metadata": {},
          "execution_count": 19
        }
      ]
    },
    {
      "cell_type": "code",
      "source": [
        "datetimes = pd.to_datetime(df[\"DateTime\"], unit = \"s\")\n",
        "df[\"DateTime\"] = datetimes"
      ],
      "metadata": {
        "id": "2ulFW6Cu-OUU"
      },
      "execution_count": 20,
      "outputs": []
    },
    {
      "cell_type": "code",
      "source": [
        "df['Year'] = df['DateTime'].dt.year"
      ],
      "metadata": {
        "id": "6PlbFygE9EDl"
      },
      "execution_count": 21,
      "outputs": []
    },
    {
      "cell_type": "code",
      "source": [
        "df"
      ],
      "metadata": {
        "id": "IlVz8Y8D-P6y",
        "colab": {
          "base_uri": "https://localhost:8080/",
          "height": 363
        },
        "outputId": "1bef279a-7fe1-4099-8c04-dce1227ecfa7"
      },
      "execution_count": 22,
      "outputs": [
        {
          "output_type": "execute_result",
          "data": {
            "text/html": [
              "\n",
              "  <div id=\"df-6c1690b0-bb08-4ec5-beac-0c96c135c5ac\">\n",
              "    <div class=\"colab-df-container\">\n",
              "      <div>\n",
              "<style scoped>\n",
              "    .dataframe tbody tr th:only-of-type {\n",
              "        vertical-align: middle;\n",
              "    }\n",
              "\n",
              "    .dataframe tbody tr th {\n",
              "        vertical-align: top;\n",
              "    }\n",
              "\n",
              "    .dataframe thead th {\n",
              "        text-align: right;\n",
              "    }\n",
              "</style>\n",
              "<table border=\"1\" class=\"dataframe\">\n",
              "  <thead>\n",
              "    <tr style=\"text-align: right;\">\n",
              "      <th></th>\n",
              "      <th>Title</th>\n",
              "      <th>Comments</th>\n",
              "      <th>DateTime</th>\n",
              "      <th>Score</th>\n",
              "      <th>Year</th>\n",
              "    </tr>\n",
              "  </thead>\n",
              "  <tbody>\n",
              "    <tr>\n",
              "      <th>0</th>\n",
              "      <td>My neighbor has a Black Lives matter sign in h...</td>\n",
              "      <td>571</td>\n",
              "      <td>2020-10-19 20:30:14</td>\n",
              "      <td>15865</td>\n",
              "      <td>2020</td>\n",
              "    </tr>\n",
              "    <tr>\n",
              "      <th>1</th>\n",
              "      <td>Armed counter protesters show up and explain m...</td>\n",
              "      <td>499</td>\n",
              "      <td>2020-07-02 14:00:40</td>\n",
              "      <td>7758</td>\n",
              "      <td>2020</td>\n",
              "    </tr>\n",
              "    <tr>\n",
              "      <th>2</th>\n",
              "      <td>Still relevant - this was posted on Twitter 7/...</td>\n",
              "      <td>200</td>\n",
              "      <td>2021-01-15 10:36:09</td>\n",
              "      <td>7444</td>\n",
              "      <td>2021</td>\n",
              "    </tr>\n",
              "    <tr>\n",
              "      <th>3</th>\n",
              "      <td>It’s never too late</td>\n",
              "      <td>85</td>\n",
              "      <td>2020-09-23 17:29:52</td>\n",
              "      <td>7059</td>\n",
              "      <td>2020</td>\n",
              "    </tr>\n",
              "    <tr>\n",
              "      <th>4</th>\n",
              "      <td>This is the one</td>\n",
              "      <td>129</td>\n",
              "      <td>2020-08-03 12:01:37</td>\n",
              "      <td>6126</td>\n",
              "      <td>2020</td>\n",
              "    </tr>\n",
              "    <tr>\n",
              "      <th>5</th>\n",
              "      <td>Help spread this</td>\n",
              "      <td>143</td>\n",
              "      <td>2020-06-26 11:50:11</td>\n",
              "      <td>5674</td>\n",
              "      <td>2020</td>\n",
              "    </tr>\n",
              "    <tr>\n",
              "      <th>6</th>\n",
              "      <td>This dude started a racist group on fb then on...</td>\n",
              "      <td>196</td>\n",
              "      <td>2020-06-27 18:52:52</td>\n",
              "      <td>5639</td>\n",
              "      <td>2020</td>\n",
              "    </tr>\n",
              "    <tr>\n",
              "      <th>7</th>\n",
              "      <td>This is sad BLM</td>\n",
              "      <td>186</td>\n",
              "      <td>2020-09-09 18:15:03</td>\n",
              "      <td>5478</td>\n",
              "      <td>2020</td>\n",
              "    </tr>\n",
              "    <tr>\n",
              "      <th>8</th>\n",
              "      <td>Our new banner (in a VERY conservative town)</td>\n",
              "      <td>120</td>\n",
              "      <td>2020-09-20 18:44:42</td>\n",
              "      <td>5150</td>\n",
              "      <td>2020</td>\n",
              "    </tr>\n",
              "    <tr>\n",
              "      <th>9</th>\n",
              "      <td>Sad that this even has to be done.</td>\n",
              "      <td>98</td>\n",
              "      <td>2020-06-30 16:26:59</td>\n",
              "      <td>4965</td>\n",
              "      <td>2020</td>\n",
              "    </tr>\n",
              "  </tbody>\n",
              "</table>\n",
              "</div>\n",
              "      <button class=\"colab-df-convert\" onclick=\"convertToInteractive('df-6c1690b0-bb08-4ec5-beac-0c96c135c5ac')\"\n",
              "              title=\"Convert this dataframe to an interactive table.\"\n",
              "              style=\"display:none;\">\n",
              "        \n",
              "  <svg xmlns=\"http://www.w3.org/2000/svg\" height=\"24px\"viewBox=\"0 0 24 24\"\n",
              "       width=\"24px\">\n",
              "    <path d=\"M0 0h24v24H0V0z\" fill=\"none\"/>\n",
              "    <path d=\"M18.56 5.44l.94 2.06.94-2.06 2.06-.94-2.06-.94-.94-2.06-.94 2.06-2.06.94zm-11 1L8.5 8.5l.94-2.06 2.06-.94-2.06-.94L8.5 2.5l-.94 2.06-2.06.94zm10 10l.94 2.06.94-2.06 2.06-.94-2.06-.94-.94-2.06-.94 2.06-2.06.94z\"/><path d=\"M17.41 7.96l-1.37-1.37c-.4-.4-.92-.59-1.43-.59-.52 0-1.04.2-1.43.59L10.3 9.45l-7.72 7.72c-.78.78-.78 2.05 0 2.83L4 21.41c.39.39.9.59 1.41.59.51 0 1.02-.2 1.41-.59l7.78-7.78 2.81-2.81c.8-.78.8-2.07 0-2.86zM5.41 20L4 18.59l7.72-7.72 1.47 1.35L5.41 20z\"/>\n",
              "  </svg>\n",
              "      </button>\n",
              "      \n",
              "  <style>\n",
              "    .colab-df-container {\n",
              "      display:flex;\n",
              "      flex-wrap:wrap;\n",
              "      gap: 12px;\n",
              "    }\n",
              "\n",
              "    .colab-df-convert {\n",
              "      background-color: #E8F0FE;\n",
              "      border: none;\n",
              "      border-radius: 50%;\n",
              "      cursor: pointer;\n",
              "      display: none;\n",
              "      fill: #1967D2;\n",
              "      height: 32px;\n",
              "      padding: 0 0 0 0;\n",
              "      width: 32px;\n",
              "    }\n",
              "\n",
              "    .colab-df-convert:hover {\n",
              "      background-color: #E2EBFA;\n",
              "      box-shadow: 0px 1px 2px rgba(60, 64, 67, 0.3), 0px 1px 3px 1px rgba(60, 64, 67, 0.15);\n",
              "      fill: #174EA6;\n",
              "    }\n",
              "\n",
              "    [theme=dark] .colab-df-convert {\n",
              "      background-color: #3B4455;\n",
              "      fill: #D2E3FC;\n",
              "    }\n",
              "\n",
              "    [theme=dark] .colab-df-convert:hover {\n",
              "      background-color: #434B5C;\n",
              "      box-shadow: 0px 1px 3px 1px rgba(0, 0, 0, 0.15);\n",
              "      filter: drop-shadow(0px 1px 2px rgba(0, 0, 0, 0.3));\n",
              "      fill: #FFFFFF;\n",
              "    }\n",
              "  </style>\n",
              "\n",
              "      <script>\n",
              "        const buttonEl =\n",
              "          document.querySelector('#df-6c1690b0-bb08-4ec5-beac-0c96c135c5ac button.colab-df-convert');\n",
              "        buttonEl.style.display =\n",
              "          google.colab.kernel.accessAllowed ? 'block' : 'none';\n",
              "\n",
              "        async function convertToInteractive(key) {\n",
              "          const element = document.querySelector('#df-6c1690b0-bb08-4ec5-beac-0c96c135c5ac');\n",
              "          const dataTable =\n",
              "            await google.colab.kernel.invokeFunction('convertToInteractive',\n",
              "                                                     [key], {});\n",
              "          if (!dataTable) return;\n",
              "\n",
              "          const docLinkHtml = 'Like what you see? Visit the ' +\n",
              "            '<a target=\"_blank\" href=https://colab.research.google.com/notebooks/data_table.ipynb>data table notebook</a>'\n",
              "            + ' to learn more about interactive tables.';\n",
              "          element.innerHTML = '';\n",
              "          dataTable['output_type'] = 'display_data';\n",
              "          await google.colab.output.renderOutput(dataTable, element);\n",
              "          const docLink = document.createElement('div');\n",
              "          docLink.innerHTML = docLinkHtml;\n",
              "          element.appendChild(docLink);\n",
              "        }\n",
              "      </script>\n",
              "    </div>\n",
              "  </div>\n",
              "  "
            ],
            "text/plain": [
              "                                               Title  Comments  ...  Score  Year\n",
              "0  My neighbor has a Black Lives matter sign in h...       571  ...  15865  2020\n",
              "1  Armed counter protesters show up and explain m...       499  ...   7758  2020\n",
              "2  Still relevant - this was posted on Twitter 7/...       200  ...   7444  2021\n",
              "3                                It’s never too late        85  ...   7059  2020\n",
              "4                                    This is the one       129  ...   6126  2020\n",
              "5                                   Help spread this       143  ...   5674  2020\n",
              "6  This dude started a racist group on fb then on...       196  ...   5639  2020\n",
              "7                                    This is sad BLM       186  ...   5478  2020\n",
              "8       Our new banner (in a VERY conservative town)       120  ...   5150  2020\n",
              "9                 Sad that this even has to be done.        98  ...   4965  2020\n",
              "\n",
              "[10 rows x 5 columns]"
            ]
          },
          "metadata": {},
          "execution_count": 22
        }
      ]
    },
    {
      "cell_type": "code",
      "source": [
        "df.to_csv('Reddit_data_analysis.csv')"
      ],
      "metadata": {
        "id": "Bmu5Lmnk6LJC"
      },
      "execution_count": 23,
      "outputs": []
    },
    {
      "cell_type": "code",
      "source": [
        "df2 = df.head(20)"
      ],
      "metadata": {
        "id": "wpyF9BZfKXzC"
      },
      "execution_count": 24,
      "outputs": []
    },
    {
      "cell_type": "code",
      "source": [
        "df2.to_csv('Reddit_data_analysis_2.csv')"
      ],
      "metadata": {
        "id": "IgyXPQGXKBtH"
      },
      "execution_count": 25,
      "outputs": []
    }
  ]
}